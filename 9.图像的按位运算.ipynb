{
 "metadata": {
  "language_info": {
   "codemirror_mode": {
    "name": "ipython",
    "version": 3
   },
   "file_extension": ".py",
   "mimetype": "text/x-python",
   "name": "python",
   "nbconvert_exporter": "python",
   "pygments_lexer": "ipython3",
   "version": 3
  },
  "orig_nbformat": 2
 },
 "nbformat": 4,
 "nbformat_minor": 2,
 "cells": [
  {
   "cell_type": "markdown",
   "metadata": {},
   "source": [
    "# 1. 图像的按位运算\n",
    "\n",
    "*按位与运算\n",
    "\n",
    "对图像进行按位与运算的函数是cv2. bitwise_and(),其规则如下：1&1=1，1&0=0，0&1=0，0&0=0\n",
    "\n",
    "| **函数**                                                     | **说明**                                                     |\n",
    "| ------------------------------------------------------------ | ------------------------------------------------------------ |\n",
    "| cv2. bitwise_and(<br/>                src1, <br/>                src2, <br/>                dst=None, <br/>                mask=None) | 对图像进行按位与运算。<br/>     **src1：**图像1<br/>     **src2：**图像2<br/>     **dst：**默认选项<br/>     **mask：**图像掩模 |\n",
    "\n",
    "对一张圆形和方形，完成按位与运算\n",
    "\n",
    "```python\n",
    ">>> import numpy as np\n",
    ">>> import cv2\n",
    ">>> rectangle = np.zeros((300,300),dtype=\"uint8\")\n",
    ">>> cv2.rectangle(rectangle,(25,25),(275,275),255,-1)\n",
    ">>> cv2.imshow(\"Rectangle\",rectangle)\n",
    ">>> \n",
    ">>> circle = np.zeros((300,300),dtype=\"uint8\")\n",
    ">>> cv2.circle(circle,(150,150),150,255,-1)\n",
    ">>> cv2.imshow(\"Circle\",circle)\n",
    ">>> \n",
    ">>> bitwiseAnd = cv2.bitwise_and(rectangle,circle)\n",
    ">>> cv2.imshow(\"And\",bitwiseAnd)\n",
    ">>> \n",
    ">>> cv2.waitKey(0)\n",
    ">>> cv2.destroyAllWindows()\n",
    "```\n"
   ]
  },
  {
   "cell_type": "code",
   "execution_count": null,
   "metadata": {},
   "outputs": [],
   "source": []
  },
  {
   "cell_type": "markdown",
   "metadata": {},
   "source": [
    "* 按位或运算\n",
    "\n",
    "对图像进行按位或运算的函数是cv2. bitwise_or(),其规则如下：1|1=1，1|0=1，0|1=1，0|0=0\n",
    "\n",
    "| **函数**                                                     | **说明**                                                     |\n",
    "| ------------------------------------------------------------ | ------------------------------------------------------------ |\n",
    "| cv2. bitwise_or(<br/>              src1, <br/>              src2, <br/>              dst=None, <br/>              mask=None) | 对图像进行按位或运算。<br/>    **src1：**图像1<br/>    **src2：**图像2<br/>    **dst：**默认选项<br/>    **mask：**图像掩模 |\n",
    "\n",
    "对一张圆形和方形图像，完成按位或运算。\n",
    "\n",
    "```python\n",
    ">>> bitwiseOr = cv2.bitwise_or(rectangle,circle)\n",
    ">>> cv2.imshow(\"OR\",bitwiseOr)\n",
    "```\n",
    "\n"
   ]
  },
  {
   "cell_type": "code",
   "execution_count": null,
   "metadata": {},
   "outputs": [],
   "source": []
  },
  {
   "cell_type": "markdown",
   "metadata": {},
   "source": [
    "* 按位非运算\n",
    "\n",
    "对图像进行按位非运算的函数是cv2. bitwise_not(),其规则如下：~1=0，~0=1\n",
    "\n",
    "| **函数**                                                     | **说明**                                                     |\n",
    "| ------------------------------------------------------------ | ------------------------------------------------------------ |\n",
    "| cv2. bitwise_not(<br/>                src1, <br/>                dst=None, <br/>                mask=None) | 对图像进行按位非运算。<br/>     **src1：**图像1<br/>     **dst：**默认选项<br/>     **mask：**图像掩模 |\n",
    "\n",
    "对圆形完成非运算，示例如下\n",
    "\n",
    "```python\n",
    "bitwiseNot = cv2.bitwise_not(circle)\n",
    "cv2.imshow(\"Not\",bitwiseNot)\n",
    "```\n",
    "\n"
   ]
  },
  {
   "cell_type": "code",
   "execution_count": null,
   "metadata": {},
   "outputs": [],
   "source": []
  },
  {
   "cell_type": "markdown",
   "metadata": {},
   "source": [
    "* 异或运算\n",
    "\n",
    "可以使用函数cv2.bitwise_xor来实现按位异或运算，其规则如下：1 ^ 0 =1，1 ^ 1 =0，0 ^ 1 =1，0 ^ 0 =0\n",
    "\n",
    "| **函数**                                                     | **说明**                                                     |\n",
    "| ------------------------------------------------------------ | ------------------------------------------------------------ |\n",
    "| cv2. bitwise_xor(<br/>                src1, <br/>                src2, <br/>                dst=None, <br/>                mask=None) | 对图像进行按位与运算。<br/>     **src1：**图像1<br/>     **src2：**图像2<br/>     **dst：**默认选项<br/>     **mask：**图像掩模 |\n",
    "\n",
    "对一张圆形和方形，完成按位异或运算。\n",
    "\n",
    "\n",
    "\n",
    "```python\n",
    "bitwiseXor = cv2.bitwise_xor(rectangle,circle)\n",
    "cv2.imshow(\"XOR\",bitwiseXor)\n",
    "```\n",
    "\n"
   ]
  },
  {
   "cell_type": "code",
   "execution_count": null,
   "metadata": {},
   "outputs": [],
   "source": []
  },
  {
   "cell_type": "markdown",
   "metadata": {},
   "source": [
    "对图像进行异或操作，完成加密和解密的工作。对图像进行按位运算，并输出运算结果。示例代码如下：\n",
    "\n",
    "```python\n",
    ">>> import cv2\n",
    ">>> import numpy as np\n",
    ">>> image = cv2.imread(\"cat.jpg\",0)\n",
    ">>> w,h= image.shape\n",
    ">>> key = np.random.randint(0,256,size=[w,h],dtype=np.uint8)\n",
    ">>> encryption = cv2.bitwise_xor(image,key)\n",
    ">>> decryption = cv2.bitwise_xor(encryption,key)\n",
    ">>> cv2.imshow(\"encryption\",encryption)\n",
    ">>> cv2.imshow(\"decryption\",decryption)\n",
    ">>> cv2.waitKey(0)\n",
    ">>> cv2.destroyAllWindows()\n",
    "```\n",
    "\n"
   ]
  },
  {
   "cell_type": "code",
   "execution_count": null,
   "metadata": {},
   "outputs": [],
   "source": []
  }
 ]
}