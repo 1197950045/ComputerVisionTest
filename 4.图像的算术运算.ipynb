{
 "metadata": {
  "language_info": {
   "codemirror_mode": {
    "name": "ipython",
    "version": 3
   },
   "file_extension": ".py",
   "mimetype": "text/x-python",
   "name": "python",
   "nbconvert_exporter": "python",
   "pygments_lexer": "ipython3",
   "version": 3
  },
  "orig_nbformat": 2
 },
 "nbformat": 4,
 "nbformat_minor": 2,
 "cells": [
  {
   "cell_type": "markdown",
   "metadata": {},
   "source": [
    "# 1 图像的加减运算\n",
    "\n",
    "* 加法运算\n",
    "\n",
    "可以使用函数cv2.add() 将两幅图像进行相加运算，在进行相加运算过程中，要求两幅必须大小相同、类型一致，或者第二个图像是一个简单的标量。opencv加法运算和numpy直接相加不同,opencv对超过255的数值按照255处理，Numpy相加会取模处理。\n",
    "\n",
    "| **函数**                                                     | **说明**                                                     |\n",
    "| ------------------------------------------------------------ | ------------------------------------------------------------ |\n",
    "| cv2.add(<br/>            src1, <br/>            src2, <br/>            dst=None, <br/>            mask=None, <br/>            dtype=None) | 将两个图像矩阵相加<br/>    **src1：**图像矩阵1<br/>    **src2：**图像矩阵2<br/>    **dst：**默认选项<br/>    **mask：**图像掩模<br/>    **dtype：**默认选项 |\n",
    "\n",
    "例如，将图像和一张灰色图直接相加，代码示例：\n",
    "\n",
    "\n",
    "```python\n",
    ">>> import cv2\n",
    ">>> import numpy as np\n",
    ">>> image = cv2.imread(\"cat.jpg\")\n",
    ">>> cv2.imshow(\"Original\",image)\n",
    ">>> #生成与image大小一样的全100矩阵M1\n",
    ">>> M1 = np.ones(image.shape,dtype=\"uint8\")*100\n",
    ">>> #将图像image与M相加\n",
    ">>> added = cv2.add(image,M1)\n",
    ">>> cv2.namedWindow('Added',cv2.WINDOW_NORMAL)\n",
    ">>> cv2.imshow(\"Added\",added)\n",
    ">>> cv2.waitKey(0)\n",
    ">>> cv2.destroyAllWindows()\n",
    "```\n",
    "\n"
   ]
  },
  {
   "cell_type": "code",
   "execution_count": null,
   "metadata": {},
   "outputs": [],
   "source": []
  },
  {
   "cell_type": "markdown",
   "metadata": {},
   "source": [
    "* 减法运算\n",
    "\n",
    "可以使用函数cv2. subtract() 将两幅图像进行减法运算，在进行减法运算过程中，要求两幅必须大小相同、类型一致，或者第二个图像是一个简单的标量。\n",
    "\n",
    "| **函数**                                                     | **说明**                                                     |\n",
    "| ------------------------------------------------------------ | ------------------------------------------------------------ |\n",
    "| cv2. subtract(<br/>            src1, <br/>            src2, <br/>            dst=None, <br/>            mask=None, <br/>            dtype=None) | 将两个图像矩阵相减<br/>    **src1：**图像矩阵1<br/>    **src2：**图像矩阵2<br/>    **dst：**默认选项<br/>    **mask：**默认选项<br/>    **dtype：**默认选项 |\n",
    "\n",
    "例如，将图像和一张灰色图相减，代码示例：\n",
    "\n",
    "```python\n",
    "#与image大小一样的全50矩阵\n",
    "M2 = np.ones(image.shape,dtype=\"uint8\")*50\n",
    "#将图像image与M相减\n",
    "substracted = cv2.subtract(image,M2)\n",
    "```\n",
    "\n"
   ]
  },
  {
   "cell_type": "code",
   "execution_count": null,
   "metadata": {},
   "outputs": [],
   "source": []
  },
  {
   "cell_type": "markdown",
   "metadata": {},
   "source": [
    "* 图像混合\n",
    "\n",
    "图像混合cv2.addWeighted()也是一种图片相加的操作，只不过两幅图片的权重不一样，γ相当于一个修正值：\n",
    "$ dst= \\alpha * img1 + \\beta * img2 + \\gamma$\n",
    "\n",
    "| **函数**                                                     | **说明**                                                     |\n",
    "| ------------------------------------------------------------ | ------------------------------------------------------------ |\n",
    "| cv2. addWeighted(<br/>                 src1, <br/>                 alpha, <br/>                 src2, <br/>                 beta, <br/>                 gamma, <br/>                 dst=None,<br/>                 dtype=None) | 将两个图像按照比例混合<br/>    **src1：**图像矩阵1<br/>    **alpha：**图像1的透明度<br/>    **src2：**图像矩阵2<br/>    **beta：**图像2的透明度<br/>    **gamma：**图像的修正时<br/>    **dst：**默认选项<br/>    **dtype：**默认选项 |\n",
    "\n",
    "例如，把两张同样大小的图进行混合，示例如下\n",
    "\n",
    "```python\n",
    ">>> import cv2\n",
    ">>> img1=cv2.imread('opencv.jpg')\n",
    ">>> img2=cv2.imread('mushroom.jpg')\n",
    ">>> dst=cv2.addWeighted(img1,0.5,img2,0.5,0)\n",
    ">>> cv2.imshow('dst',dst)\n",
    ">>> cv2.waitKey(0)\n",
    ">>> cv2.destroyAllWindows()\n",
    "```\n",
    "\n"
   ]
  },
  {
   "cell_type": "code",
   "execution_count": null,
   "metadata": {},
   "outputs": [],
   "source": []
  },
  {
   "cell_type": "code",
   "execution_count": null,
   "metadata": {},
   "outputs": [],
   "source": []
  }
 ]
}