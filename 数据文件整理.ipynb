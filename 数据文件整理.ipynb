{
 "cells": [
  {
   "cell_type": "code",
   "execution_count": 2,
   "metadata": {},
   "outputs": [],
   "source": [
    "import os,shutil\n"
   ]
  },
  {
   "cell_type": "code",
   "execution_count": 3,
   "metadata": {},
   "outputs": [
    {
     "data": {
      "text/plain": [
       "'/home/data'"
      ]
     },
     "execution_count": 3,
     "metadata": {},
     "output_type": "execute_result"
    }
   ],
   "source": [
    "os.getcwd()"
   ]
  },
  {
   "cell_type": "code",
   "execution_count": 4,
   "metadata": {},
   "outputs": [
    {
     "data": {
      "text/plain": [
       "'/home/data/downloads'"
      ]
     },
     "execution_count": 4,
     "metadata": {},
     "output_type": "execute_result"
    }
   ],
   "source": [
    "os.chdir('/home/data/downloads')\n",
    "os.getcwd()\n"
   ]
  },
  {
   "cell_type": "code",
   "execution_count": 5,
   "metadata": {},
   "outputs": [
    {
     "data": {
      "text/plain": [
       "['067df082025aaf0789.jpg',\n",
       " '287c0e0cf3d7cad687.jpg',\n",
       " 'd572d98d1001e99c1e.jpg',\n",
       " '0002f3d7ca7bcbd587.jpg',\n",
       " 'f2144c510fd8f9a1ee.jpg',\n",
       " '0e9f8fa0ec09fac7de.jpg',\n",
       " '24f6dcd100baa12b34.jpg',\n",
       " '92c51349540923763c.jpg',\n",
       " '2d8944ebf81a4ca321.jpg',\n",
       " '5dc48065380dd78eca.jpg',\n",
       " 'cdbd1c8701a18bfbb4.jpg',\n",
       " '4c193c521ad68bbeab.jpg',\n",
       " '3da518972bd40736ab.jpg',\n",
       " '48b09b8cf10c922d99.jpg',\n",
       " '7bc2bf6c81800a4c3c.jpg',\n",
       " '168901a18b87d6fa87.jpg',\n",
       " '82da3f8794a4c226b1.jpg',\n",
       " '7c02338744ebf8ac36.jpg',\n",
       " '23289759ee3d6ddb21.jpg',\n",
       " '198482b9014a90eb87.jpg',\n",
       " '41df09b3de9c82481e.jpg',\n",
       " 'f08c8ba61ea9d345ed.jpg',\n",
       " '0854afa40f4bfb0586.jpg',\n",
       " '159bcad1c8a7865d5e.jpg',\n",
       " '3ab699a9014c08f121.jpg',\n",
       " '88b7014a90f603ea87.jpg',\n",
       " '6f85d4b31c8601e4d7.jpg',\n",
       " '7201b30f2443a70fe4.jpg',\n",
       " '0226381f30e824fcee.jpg',\n",
       " 'f1cdcec3fdfc0323bc.jpg',\n",
       " 'f6cdcec3fdfc032342.jpg',\n",
       " '4bd888d43f87942786.jpg',\n",
       " '12992bd40735fa3586.jpg']"
      ]
     },
     "execution_count": 5,
     "metadata": {},
     "output_type": "execute_result"
    }
   ],
   "source": [
    "os.listdir()"
   ]
  },
  {
   "cell_type": "code",
   "execution_count": 7,
   "metadata": {},
   "outputs": [
    {
     "data": {
      "text/plain": [
       "['067df082025aaf0789.jpg',\n",
       " '287c0e0cf3d7cad687.jpg',\n",
       " 'd572d98d1001e99c1e.jpg',\n",
       " '0002f3d7ca7bcbd587.jpg',\n",
       " 'f2144c510fd8f9a1ee.jpg',\n",
       " '0e9f8fa0ec09fac7de.jpg',\n",
       " '24f6dcd100baa12b34.jpg',\n",
       " '92c51349540923763c.jpg',\n",
       " '2d8944ebf81a4ca321.jpg',\n",
       " '5dc48065380dd78eca.jpg',\n",
       " 'cdbd1c8701a18bfbb4.jpg',\n",
       " '4c193c521ad68bbeab.jpg',\n",
       " '3da518972bd40736ab.jpg',\n",
       " '48b09b8cf10c922d99.jpg',\n",
       " '7bc2bf6c81800a4c3c.jpg',\n",
       " '168901a18b87d6fa87.jpg',\n",
       " '82da3f8794a4c226b1.jpg',\n",
       " '7c02338744ebf8ac36.jpg',\n",
       " '23289759ee3d6ddb21.jpg',\n",
       " '198482b9014a90eb87.jpg',\n",
       " '41df09b3de9c82481e.jpg',\n",
       " 'f08c8ba61ea9d345ed.jpg',\n",
       " '0854afa40f4bfb0586.jpg',\n",
       " '159bcad1c8a7865d5e.jpg',\n",
       " '3ab699a9014c08f121.jpg',\n",
       " '88b7014a90f603ea87.jpg',\n",
       " '6f85d4b31c8601e4d7.jpg',\n",
       " '7201b30f2443a70fe4.jpg',\n",
       " '0226381f30e824fcee.jpg',\n",
       " 'f1cdcec3fdfc0323bc.jpg',\n",
       " 'f6cdcec3fdfc032342.jpg',\n",
       " '4bd888d43f87942786.jpg',\n",
       " '12992bd40735fa3586.jpg']"
      ]
     },
     "execution_count": 7,
     "metadata": {},
     "output_type": "execute_result"
    }
   ],
   "source": [
    "file_list_temp = os.listdir()\n",
    "file_list = []\n",
    "for i in file_list_temp:\n",
    "    if i.endswith('.jpg'):\n",
    "        file_list.append(i)\n",
    "file_list"
   ]
  },
  {
   "cell_type": "code",
   "execution_count": 10,
   "metadata": {},
   "outputs": [
    {
     "data": {
      "text/plain": [
       "'/home/data/downloads'"
      ]
     },
     "execution_count": 10,
     "metadata": {},
     "output_type": "execute_result"
    }
   ],
   "source": [
    "os.mkdir('good')\n",
    "os.mkdir('bad')\n",
    "os.getcwd()"
   ]
  },
  {
   "cell_type": "code",
   "execution_count": 11,
   "metadata": {},
   "outputs": [],
   "source": [
    "x= 1\n",
    "y= 1\n",
    "for i in file_list:\n",
    "    if os.path.getsize(i) >102400:\n",
    "        shutil.copy(i,'good/'+str(x)+'.jpg')\n",
    "        x= x+1\n",
    "    else:\n",
    "        shutil.copy(i,'bad/'+str(y)+'.jpg')\n",
    "        y = y+1"
   ]
  },
  {
   "cell_type": "code",
   "execution_count": null,
   "metadata": {},
   "outputs": [],
   "source": []
  },
  {
   "cell_type": "code",
   "execution_count": null,
   "metadata": {},
   "outputs": [],
   "source": [
    "import os\n",
    "from matplotlib import pyplot as plt  #plt用于显示图片\n",
    "import matplotlib.image as mpimg # mpimg 用于读取图片\n",
    "import math\n",
    "\n",
    "ImgPath = 'C:\\\\Users\\\\KZS\\\\Pictures\\\\bad'\n",
    "file_list = os.listdir(ImgPath)\n",
    "os.chdir(ImgPath)\n",
    "\n",
    "n = math.sqrt(len(file_list))\n",
    "plt.figure()\n",
    "for index,elemt in enumerate(file_list):\n",
    "    plt.subplot(n,n,index+1)\n",
    "    img = mpimg.imread(elemt)\n",
    "    plt.imshow(img)\n",
    "plt.show()\n",
    "\n"
   ]
  },
  {
   "cell_type": "code",
   "execution_count": null,
   "metadata": {},
   "outputs": [],
   "source": []
  }
 ],
 "metadata": {
  "kernelspec": {
   "display_name": "Python 3",
   "language": "python",
   "name": "python3"
  },
  "language_info": {
   "codemirror_mode": {
    "name": "ipython",
    "version": 3
   },
   "file_extension": ".py",
   "mimetype": "text/x-python",
   "name": "python",
   "nbconvert_exporter": "python",
   "pygments_lexer": "ipython3",
   "version": "3.5.6"
  }
 },
 "nbformat": 4,
 "nbformat_minor": 4
}