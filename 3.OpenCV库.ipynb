{
 "metadata": {
  "language_info": {
   "codemirror_mode": {
    "name": "ipython",
    "version": 3
   },
   "file_extension": ".py",
   "mimetype": "text/x-python",
   "name": "python",
   "nbconvert_exporter": "python",
   "pygments_lexer": "ipython3",
   "version": 3
  },
  "orig_nbformat": 2,
  "kernelspec": {
   "name": "python_defaultSpec_1595993772747",
   "display_name": "Python 3.6.2 64-bit"
  }
 },
 "nbformat": 4,
 "nbformat_minor": 2,
 "cells": [
  {
   "cell_type": "markdown",
   "metadata": {},
   "source": [
    "# OpenCV概述\n",
    "\n",
    "OpenCV（全称是Open Source Computer Vision Library）是一种开放源代码的计算机视觉库，主要算法涉及图像处理、计算机视觉和机器学习相关方法。OpenCV具有丰富的接口，优秀的性能，开源的属性，至今仍然是最流行的计算机视觉库，在各个计算机视觉领域发挥着巨大的作用。\n",
    "\n",
    "* OpenCV-python安装\n",
    "\n",
    "本次教程中，我们主要在python3的基础上安装opencv3.4.2.16 版本。可以直接通过pip安装，并指定版本。\n",
    "\n",
    "```shell\n",
    "pip install opencv-python==3.4.2.16\n",
    "```\n",
    "\n",
    "然后可以通过引用opencv库，查看版本验证是否正确安装\n",
    "\n",
    "```python\n",
    ">>> import cv2\n",
    ">>> print(cv2.__version__)\n",
    "3.4.2\n",
    "```\n",
    "\n"
   ]
  },
  {
   "cell_type": "markdown",
   "metadata": {},
   "source": [
    "#  1. 图像读取、显示和保存\n",
    "\n",
    "使用函数 cv2.imread() 读入图像，读入的图像是numpy数组\n",
    "\n",
    "| **函数**                                     | **说明**                                                     |\n",
    "| -------------------------------------------- | ------------------------------------------------------------ |\n",
    "| cv2.imread(<br/>    filePath,<br/>    flags) | 使用cv2读取一幅图像。<br/>**filePath：**读取文件的路径<br/>**flags：**指明该如何读取这幅图片，常见值：<br/>**cv2.IMREAD_COLOR：**读入一副彩色图，图像的透明度会被忽略，值为1（默认参数）<br/>**cv2.IMREAD_GRAYSCALE：**以灰度模式读入图像，值为0<br/>**cv2.IMREAD_UNCHANGED：**读入一幅图像，并且包括图像的 alpha 通道 |\n",
    "\n",
    "使用函数cv2.imshow()  显示图像\n",
    "\n",
    "| **函数**                                            | **说明**                                                     |\n",
    "| --------------------------------------------------- | ------------------------------------------------------------ |\n",
    "| cv2. imshow(<br/>    winname,<br/>    image<br/>  ) | 使用cv2显示图像。<br/>     **winname：**窗口的名称。<br/>     **image：**要显示的图像。 |\n",
    "\n",
    "读取一幅彩色图像，并在窗口显示，当键盘按下任意键时退出窗口。示例代码如下：\n",
    "\n",
    "```python\n",
    ">>> import cv2\n",
    ">>> img = cv2.imread(\"cat.jpg\",cv2.IMREAD_COLOR)\n",
    ">>> cv2.imshow(\"showImage\",img)\n",
    ">>> cv2.waitKey(0)\n",
    ">>> cv2.destroyAllWindows()\n",
    "```\n",
    "\n"
   ]
  },
  {
   "cell_type": "code",
   "execution_count": 1,
   "metadata": {},
   "outputs": [],
   "source": []
  },
  {
   "cell_type": "markdown",
   "metadata": {},
   "source": [
    "或者如果需要自动调节显示窗口的大小，可以通过cv2.namedWindow()调整窗口属性\n",
    "\n",
    "```python\n",
    ">>> cv2.namedWindow(\"cat\",cv2.WINDOW_NORMAL)\n",
    "```\n",
    "\n"
   ]
  },
  {
   "cell_type": "code",
   "execution_count": null,
   "metadata": {},
   "outputs": [],
   "source": []
  },
  {
   "cell_type": "markdown",
   "metadata": {},
   "source": [
    "使用cv2.imwrite保存图片\n",
    "\n",
    "| **函数**                                   | **说明**                                                     |\n",
    "| ------------------------------------------ | ------------------------------------------------------------ |\n",
    "| cv2.imwrite(<br/>file，<br/>img，<br/>num) | 使用cv2保存图像。<br/>**file：**指要保存的文件名。<br/>**img：**指要保存的图像。<br/>**num：**可选，它针对格式表现不同：对于JPEG，其表示的是图像的质量，用0 - 100的整数表示，默认95;对于png ,第三个参数表示的是压缩级别。默认为3 |\n",
    "\n",
    "加载一个一幅图像，并显示，按下‘s’键保存后退出，或者按其他键直接退出。示例代码如下：\n",
    "\n",
    "```python\n",
    ">>> import cv2\n",
    ">>> img = cv2.imread(\"cat.jpg\")\n",
    ">>> cv2.imshow(\"cat\",img)\n",
    ">>> k = cv2.waitKey(0)\n",
    ">>> if k == ord('s'):\n",
    ">>>     cv2.imwrite('save_cat.png',img)\n",
    ">>>     cv2.destroyAllWindows()\n",
    ">>> else:\n",
    ">>>     cv2.destroyAllWindows()\n",
    "```\n"
   ]
  },
  {
   "cell_type": "code",
   "execution_count": null,
   "metadata": {},
   "outputs": [],
   "source": []
  },
  {
   "cell_type": "markdown",
   "metadata": {},
   "source": [
    "# 2 查看图像属性\n",
    "\n",
    "图像的属性主要包括：行、列、通道以及图像的数据类型，像素数目等，其获取其属性的函数如下所示：\n",
    "\n",
    "| **函数**  | **说明**                                                     |\n",
    "| --------- | ------------------------------------------------------------ |\n",
    "| img.shape | 可以获取图像的形状，它返回的是一个包含行数、列数、通道数的元祖 |\n",
    "| img.size  | 返回图像中像素的数据                                         |\n",
    "| img.dtype | 返回的是图像的数据类型                                       |\n",
    "\n",
    "读取一幅图片，显示图像的形状、像素数目及数据类型。示例代码如下：\n",
    "\n",
    "```python\n",
    ">>> import cv2\n",
    ">>> img = cv2.imread(\"cat.jpg\")\n",
    ">>> print(\"图像形状:\",img.shape)\n",
    ">>> print(\"像素数目:\",img.size) \n",
    ">>> print(\"数据类型:\",img.dtype)\n",
    "```\n",
    "\n",
    "输出结果如下：\n",
    "\n",
    "图像形状: (237, 474, 3)\n",
    "\n",
    "像素数目: 337014\n",
    "\n",
    "数据类型: uint8"
   ]
  },
  {
   "cell_type": "code",
   "execution_count": null,
   "metadata": {},
   "outputs": [],
   "source": []
  },
  {
   "cell_type": "markdown",
   "metadata": {},
   "source": [
    "* 查看图像颜色通道\n",
    "\n",
    "opencv读取图像后，可以通过其行和列坐标访问像素值。读取彩色图像后， 特别要注意的是颜色通道的顺序是**BGR**，因此返回的是一个蓝色、绿色、红色值的数组；对于灰度图像，只返回相应的亮度。\n",
    "\n",
    "以下代码实现了访问和修改图像的像素值：\n",
    "\n",
    "```python\n",
    ">>> import cv2\n",
    ">>> img = cv2.imread('cat.jpg')\n",
    ">>> px=img[100,100]\n",
    ">>> print(\"(100,100)像素点的值:\",px)\n",
    ">>> blue=img[100,100,0]\n",
    ">>> print(\"(100,100)蓝色通道像素点的值:\",blue)\n",
    ">>> img[100,100]=[255,255,255]\n",
    ">>> print(\"修改后的像素值:\",img[100,100]) \n",
    "```\n",
    "\n",
    "输出结果如下：\n",
    "\n",
    "(100,100)像素点的值: \\[  8  19 101]\n",
    "\n",
    "(100,100)蓝色通道像素点的值: 8\n",
    "\n",
    "修改后的像素值: \\[255 255 255]"
   ]
  },
  {
   "cell_type": "code",
   "execution_count": null,
   "metadata": {},
   "outputs": [],
   "source": []
  },
  {
   "cell_type": "markdown",
   "metadata": {},
   "source": [
    "opencv提供图像颜色通道分离函数cv2.split，合并用cv2.merge函数。\n",
    "\n",
    "| **函数**                         | **说明**                         |\n",
    "| -------------------------------- | -------------------------------- |\n",
    "| cv2.split( image)                | 分离图像的通道                   |\n",
    "| cv2.merge( blue,   green,   red) | 将图像的blue、green与red图像合并 |\n",
    "\n",
    "通过函数分别完成各个通道的分离和显示，去读一幅图像，分别显示三个通道。示例代码如下\n",
    "\n",
    "```python\n",
    ">>> import cv2\n",
    ">>> img = cv2.imread(\"cat.jpg\")\n",
    ">>> b,g,r = cv2.split(img)\n",
    ">>> merged = cv2.merge([b,g,r])\n",
    ">>> cv2.imshow(\"Blue\",b)\n",
    ">>> cv2.imshow(\"Green\",g)\n",
    ">>> cv2.imshow(\"Red\",r)\n",
    ">>> cv2.imshow(\"Merged\",merged)\n",
    ">>> cv2.waitKey(0)\n",
    ">>> cv2.destroyAllWindows()\n",
    "```\n",
    "\n"
   ]
  },
  {
   "cell_type": "code",
   "execution_count": null,
   "metadata": {},
   "outputs": [],
   "source": []
  },
  {
   "cell_type": "markdown",
   "metadata": {},
   "source": [
    "显示图像的时候，我们也经常使用Matplotlib的方法显示。但是需要注意,opecv读入的图像的颜色通道顺序是BGR，必须先转换成RGB的顺序，通过Matplotlib进行显示的时候，才能正确展示颜色。\n",
    "\n",
    "```python\n",
    ">> img2 = cv2.cvtColor(img, cv2.COLOR_BGR2RGB)\n",
    ">> plt.imshow(img2)\n",
    "```\n",
    "\n"
   ]
  }
 ]
}