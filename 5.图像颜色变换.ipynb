{
 "metadata": {
  "language_info": {
   "codemirror_mode": {
    "name": "ipython",
    "version": 3
   },
   "file_extension": ".py",
   "mimetype": "text/x-python",
   "name": "python",
   "nbconvert_exporter": "python",
   "pygments_lexer": "ipython3",
   "version": 3
  },
  "orig_nbformat": 2
 },
 "nbformat": 4,
 "nbformat_minor": 2,
 "cells": [
  {
   "cell_type": "markdown",
   "metadata": {},
   "source": [
    "# 1. 图像色彩空间模型\n",
    "\n",
    "* RGB 空间模型\n",
    "\n",
    "任意色彩都是用R、G、B三色不同分量的相加混合而成：F=r[R]+r[G]+r[B]。RGB色彩空间还可以用一个三维的立方体来描述。\n",
    "\n",
    "当三基色分量都为0(最弱)时混合为黑色光；\n",
    "\n",
    "当三基色都为k(最大，值由存储空间决定)时混合为白色光。\n",
    "\n",
    "\n",
    "![rbg](./rbg.png)\n",
    "\n"
   ]
  },
  {
   "cell_type": "markdown",
   "metadata": {},
   "source": [
    "以下代码实现了访问和修改图像的像素值：\n",
    "```python\n",
    ">>> import cv2\n",
    ">>> img = cv2.imread('cat.jpg')\n",
    ">>> px=img[100,100]\n",
    ">>> print(\"(100,100)像素点的值:\",px)\n",
    "(100,100)像素点的值: [28 32 43]\n",
    ">>> blue=img[100,100,0]\n",
    ">>> print(\"(100,100)蓝色通道像素点的值:\",blue)\n",
    "(100,100)蓝色通道像素点的值: 28\n",
    ">>> img[100,100]=[255,255,255]\n",
    ">>> print(\"修改后的像素值:\",img[100,100])\n",
    "修改后的像素值: [255 255 255]\n",
    "```\n",
    "以上代码中img[100,100]表示行列坐标为[100,100]的像素点，返回值[28 32 43]是分别对应蓝色、绿色、红色值。img[100,100,0] 表示行列坐标为[100,100]的像素点对应的蓝色值，第三个参数为1代表返回绿色通道像素点的值，为2代表红色通道像素点的值。\n"
   ]
  },
  {
   "cell_type": "code",
   "execution_count": null,
   "metadata": {},
   "outputs": [],
   "source": []
  },
  {
   "cell_type": "markdown",
   "metadata": {},
   "source": [
    "* 灰度色彩空间\n",
    "\n",
    "灰度图像通常是指8位灰度，其具有256个灰度级别，像素值的范围是[0，255]。\n",
    "\n",
    "因为人眼对RGB颜色的感知并不相同，因此转换的时候通常需要给与不同的权重。当图像由RGB色彩空间转换为GRAY色彩空间时，常用的处理方式为；\n",
    "\n",
    "​    $Gray= 0.299 * R + 0.587 * G+0.114 * B$\n",
    "\n",
    "当图像由GRAY色彩空间转换为RGB色彩空间时，其所有的通道的值都是固定的；\n",
    "\n",
    "​    R=Gray\n",
    "\n",
    "​    G=Gray\n",
    "\n",
    "​    B=Gray"
   ]
  },
  {
   "cell_type": "markdown",
   "metadata": {},
   "source": [
    "* HSV颜色空间模型\n",
    "\n",
    "HSV是一种将RGB色彩空间中的点在倒圆锥体中的表示方法。HSV即色相、饱和度、明度。色相就是平常说的颜色的名称，如红色、黄色等；饱和度是指色彩的纯度，越高色彩越纯，低则逐渐变灰，取0-100%的数值。圆锥的顶点处，V=0，H和S无定义，代表黑色。圆锥的顶面中心处V=max，S=0，H无定义，代表白色。\n",
    "\n",
    "![HSV](./hsv.png)"
   ]
  },
  {
   "cell_type": "markdown",
   "metadata": {},
   "source": [
    "# 2 颜色空间变换\n",
    "图像颜色空间转换的函数是cv2. cvtColor，该函数可以将图像从一个颜色空间转换到另外一个颜色空间，函数的基本形式如下：\n",
    "\n",
    "| **函数**                                                     | **说明**                                                     |\n",
    "| ------------------------------------------------------------ | ------------------------------------------------------------ |\n",
    "| cv2. cvtColor(<br/>                src, <br/>                code, <br/>                dst=None) | 将图像从一个颜色空间转换为另外一个颜色空间。<br/>      **src：**需要转换的图像。<br/>      **code：**需要转换的颜色空间，常用的值有：<br/>               cv2.COLOR_BGR2GRAY<br/>               cv2.COLOR_BGR2RGB<br/>               cv2.COLOR_GRAY2BGR<br/>      **dst：**转换后目标图像的大小。 |\n",
    "\n",
    "通常，我们会把BGR的通道的图像，转换成RGB通道，然后用Matplotlib进行正确的显示，或者转换成灰度图。示例如下：\n",
    "\n",
    "\n",
    "```python\n",
    ">>> import cv2\n",
    ">>> import numpy as np\n",
    ">>> from matplotlib import pyplot as plt\n",
    ">>> %matplotlib inline\n",
    ">>> \n",
    ">>> img = cv2.imread(\"cat.jpg\")\n",
    ">>> \n",
    ">>> img_rgb = cv2.cvtColor(img, cv2.COLOR_BGR2RGB)\n",
    ">>> img_gray = cv2.cvtColor(img, cv2.COLOR_BGR2GRAY)\n",
    ">>> plt.subplot(121),plt.imshow(img_rgb),plt.title(\"RGB\")\n",
    ">>> plt.subplot(122),plt.imshow(img_gray,cmap=\"gray\"),plt.title(\"GRAY\")\n",
    ">>> plt.show()\n",
    "```\n",
    "\n"
   ]
  },
  {
   "cell_type": "code",
   "execution_count": null,
   "metadata": {},
   "outputs": [],
   "source": []
  },
  {
   "cell_type": "markdown",
   "metadata": {},
   "source": [
    "* 图像灰度变换\n",
    "\n",
    "图像的灰度线性变换是通过建立灰度映射来调整原始图像的灰度，通常可以用线性变换公式。\n",
    "\n",
    "$D_{B} = f(D_{A}) =  aD_{A} + b $\n",
    "\n",
    "如果$a>1, b>0$的情况下， 该算法会提升图像的亮度，增加图像的对比度。对于灰度偏低的图像可以改善图像的质量，凸显图像的细节。 如果$a=-1, b=255$的情况下， 该算法实际上是对灰度做了反转，黑色部分变成白色，白色变成黑色，也是常用的一种处理方式。\n",
    "\n",
    "如下示例是对图像做了灰度变换，由于图像的灰度值位于0至255区间之内，所以需要对灰度值进行溢出判断。\n",
    "\n",
    "```python\n",
    ">>> import numpy as np\n",
    ">>> from matplotlib import pyplot as plt\n",
    ">>> %matplotlib inline\n",
    ">>> plt.figure(figsize=(10,10))\n",
    ">>> img = cv2.imread(\"cat.jpg\")\n",
    ">>> grayImage = cv2.cvtColor(img, cv2.COLOR_BGR2GRAY)\n",
    ">>> height = grayImage.shape[0]\n",
    ">>> width = grayImage.shape[1]\n",
    ">>> result = np.zeros((height, width), np.uint8)\n",
    ">>> for i in range(height):\n",
    ">>>     for j in range(width):\n",
    ">>>         cvt = int(grayImage[i, j] * 1.3 - 30)\n",
    ">>>         if (cvt > 255):\n",
    ">>>             gray = 255\n",
    ">>>         elif (cvt < 0):\n",
    ">>>             gray = 0\n",
    ">>>         else:\n",
    ">>>             gray = cvt\n",
    ">>>         result[i, j] = np.uint8(gray)\n",
    ">>> plt.subplot(121),plt.imshow(grayImage,cmap='gray'),plt.title(\"Gray Image\")\n",
    ">>> plt.subplot(122),plt.imshow(result,cmap='gray'),plt.title(\"Result\")\n",
    ">>> plt.show()\n",
    "```\n",
    "\n",
    "可以看到图像的对比效果，图像的对比度增加了。当然也可以调整灰度变换的函数得到不同的效果。"
   ]
  },
  {
   "cell_type": "code",
   "execution_count": null,
   "metadata": {},
   "outputs": [],
   "source": []
  }
 ]
}