{
 "metadata": {
  "language_info": {
   "codemirror_mode": {
    "name": "ipython",
    "version": 3
   },
   "file_extension": ".py",
   "mimetype": "text/x-python",
   "name": "python",
   "nbconvert_exporter": "python",
   "pygments_lexer": "ipython3",
   "version": 3
  },
  "orig_nbformat": 2
 },
 "nbformat": 4,
 "nbformat_minor": 2,
 "cells": [
  {
   "cell_type": "markdown",
   "metadata": {},
   "source": [
    "# 1 灰度直方图\n",
    "\n",
    "直方图简单来说就是对图像中每个像素值的个数统计。比如说一副灰度图中灰度值为0的有多少个，100的多少个，255的多少个。直方图的的x轴是灰度值（0到255），y轴是图片中具有同一个灰度值的像素点的个数。通过直方图，我们可以对图像的对比度，亮度和灰度分布有一个直观的认识。\n",
    "\n",
    "![灰度直方图](./灰度直方图.png)"
   ]
  },
  {
   "cell_type": "markdown",
   "metadata": {},
   "source": [
    "cv2.calcHist 函数的形式如下：\n",
    "\n",
    "| **函数**                                                     | **说明**                                                     |\n",
    "| ------------------------------------------------------------ | ------------------------------------------------------------ |\n",
    "| hist=cv2.calcHist(<br/>                images, <br/>                channels, <br/>                mask, <br/>                histSize, <br/>                ranges, <br/>                accumulate) | **images：**要计算的原图，以方括号的传入，如：[img]。<br/>**channels：**要计算的通道数，灰度图写[0]就行，彩色图B/G/R分别传入[0]/[1]/[2]。<br/>**mask：**要计算的区域，计算整幅图的话，写None。<br/>**histSize：**BIN的数目。用方括号的方式传入，比如[256]<br/>**ranges：**要计算的像素值范围，一般为[0,256]。<br/>**accumulate：**是一个布尔值，用来表示直方图是否叠加 |\n",
    "\n",
    "或者用numpy 中的函数 np.histogram() 也可以帮我们统计直方图，该函数的形式如下：\n",
    "\n",
    "| **函数**                                                     | **说明**                                                     |\n",
    "| ------------------------------------------------------------ | ------------------------------------------------------------ |\n",
    "| hist,bins=np.histogram(<br/>                  img.ravel(),<br/>                  histSize, <br/>                  ranges) | **img.ravel()：**图像的像素矩阵<br/>**histSize：**BIN子区段数目<br/>**ranges**：要计算的像素值范围，一般为[0,255]。 |\n",
    "\n",
    "例如，用两种方法绘制同一幅图像的直方图\n",
    "\n",
    "```python\n",
    "import cv2\n",
    "import matplotlib.pyplot as plt\n",
    "import numpy as np\n",
    "img = cv2.imread(\"123.jpg\")\n",
    "grayImage = cv2.cvtColor(img,cv2.COLOR_BGRA2GRAY)\n",
    "hist1 = cv2.calcHist([grayImage],[0],None,[256],[0,256])\n",
    "hist2,bins = np.histogram(grayImage.ravel(),256,[0,256])\n",
    "plt.subplot(211),plt.plot(hist1),plt.title(\"hist1\")\n",
    "plt.subplot(212),plt.plot(hist2),plt.title(\"hist2\")\n",
    "plt.show()\n",
    "```\n",
    "\n"
   ]
  },
  {
   "cell_type": "code",
   "execution_count": null,
   "metadata": {},
   "outputs": [],
   "source": []
  },
  {
   "cell_type": "markdown",
   "metadata": {},
   "source": [
    "# 2 彩色直方图\n",
    "彩色图像有三个通道，我们可以把它的三个通道分别取出来进行绘制。从而可以看每个通道上像素的分布，得到原图中哪种颜色分量比较多。\n",
    "\n",
    "如下示例，绘制\n",
    "\n",
    "```python\n",
    "import cv2\n",
    "import matplotlib.pyplot as plt\n",
    "import numpy as np\n",
    "plt.figure(figsize=(10,10))\n",
    "\n",
    "img = cv2.imread(\"123.jpg\")\n",
    "hist0 = cv2.calcHist([img],[0],None,[256],[0,256])\n",
    "plt.plot(hist0, color='b')\n",
    "hist1 = cv2.calcHist([img],[1],None,[256],[0,256])\n",
    "plt.plot(hist1, color='g')\n",
    "hist2 = cv2.calcHist([img],[2],None,[256],[0,256])\n",
    "plt.plot(hist2, color='r')\n",
    "plt.show()\n",
    "```\n",
    "\n"
   ]
  },
  {
   "cell_type": "code",
   "execution_count": null,
   "metadata": {},
   "outputs": [],
   "source": []
  },
  {
   "cell_type": "markdown",
   "metadata": {},
   "source": [
    "# 3 直方图均衡化\n",
    "\n",
    "直方图均衡化的目的是将原始图像的灰度级均匀的映射到整个灰度级范围内，得到一个灰度级均匀分布的图像，这就增加了像素灰度值的动态范围，从而增强图像整体对比度。\n",
    "\n",
    "在原有范围内实现均衡化时，用当前灰度级的累计概率乘以当前灰度级的最大值，得到新的灰度级。\n",
    "\n",
    "\n",
    "OpenCV提供了图像均衡化的函数，该函数形式如下所示：\n",
    "\n",
    "| **函数**                                 | **说明**                                                     |\n",
    "| ---------------------------------------- | ------------------------------------------------------------ |\n",
    "| cv2.equalizeHist(<br/>            image) | 对图像的直方图均衡化<br/>     **image：**需要进行直方图的图片 |\n",
    "\n",
    "实例代码如下：\n",
    "\n",
    "```python\n",
    "import cv2\n",
    "from matplotlib import pyplot as plt\n",
    "img = cv2.imread(\"night.jpg\")\n",
    "plt.figure(figsize=(10,10))\n",
    " \n",
    "gray = cv2.cvtColor(img, cv2.COLOR_BGR2GRAY)\n",
    "dst = cv2.equalizeHist(gray)\n",
    "plt.subplot(121),plt.imshow(gray,cmap=\"gray\"),plt.title(\"orginal\")\n",
    "plt.subplot(122),plt.imshow(dst,cmap=\"gray\"),plt.title(\"equalizeHist\")\n",
    "plt.show()\n",
    "```\n",
    "\n"
   ]
  },
  {
   "cell_type": "code",
   "execution_count": null,
   "metadata": {},
   "outputs": [],
   "source": []
  },
  {
   "cell_type": "markdown",
   "metadata": {},
   "source": [
    "绘制直方图的变化：\n",
    "\n",
    "```python\n",
    "hist1 = cv2.calcHist([gray],[0],None,[256],[0,256])\n",
    "hist2,bins = np.histogram(dst.ravel(),256,[0,256])\n",
    "plt.subplot(211),plt.plot(hist1),plt.title(\"hist1\")\n",
    "plt.subplot(212),plt.plot(hist2),plt.title(\"hist2\")\n",
    "plt.show()\n",
    "```\n",
    "\n"
   ]
  },
  {
   "cell_type": "code",
   "execution_count": null,
   "metadata": {},
   "outputs": [],
   "source": []
  },
  {
   "cell_type": "markdown",
   "metadata": {},
   "source": [
    "* 彩色直方图均衡化\n",
    "\n",
    "彩色图像的直方图均衡化和灰度图像略有不同，需要将彩色图像先用split()方法,将三个通道拆分，然后分别进行均衡化，最后使用merge()方法将均衡化之后的三个通道进行合并。\n",
    "\n",
    "例如，对彩色图像进行直方图均衡化实例代码如下：\n",
    "\n",
    "```python\n",
    "import cv2\n",
    "from matplotlib import pyplot as plt\n",
    "img = cv2.imread(\"night.jpg\")\n",
    "plt.figure(figsize=(15,15))\n",
    " \n",
    "(b, g, r) = cv2.split(img)\n",
    "bcolor = cv2.equalizeHist(b)\n",
    "gcolor = cv2.equalizeHist(g)\n",
    "rcolor = cv2.equalizeHist(r)\n",
    "result = cv2.merge((bcolor, gcolor, rcolor))\n",
    "img_rgb = cv2.cvtColor(img,cv2.COLOR_BGR2RGB)\n",
    "result_rgb = cv2.cvtColor(result,cv2.COLOR_BGR2RGB)\n",
    "plt.subplot(121),plt.imshow(img_rgb),plt.title(\"orginal\")\n",
    "plt.subplot(122),plt.imshow(result_rgb),plt.title(\"equalizeHist\")\n",
    "plt.show()\n",
    "```\n",
    "\n"
   ]
  },
  {
   "cell_type": "code",
   "execution_count": null,
   "metadata": {},
   "outputs": [],
   "source": []
  },
  {
   "cell_type": "code",
   "execution_count": null,
   "metadata": {},
   "outputs": [],
   "source": []
  }
 ]
}