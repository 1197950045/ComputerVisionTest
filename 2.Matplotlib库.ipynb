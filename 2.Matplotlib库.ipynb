{
 "metadata": {
  "language_info": {
   "codemirror_mode": {
    "name": "ipython",
    "version": 3
   },
   "file_extension": ".py",
   "mimetype": "text/x-python",
   "name": "python",
   "nbconvert_exporter": "python",
   "pygments_lexer": "ipython3",
   "version": 3
  },
  "orig_nbformat": 2
 },
 "nbformat": 4,
 "nbformat_minor": 2,
 "cells": [
  {
   "cell_type": "markdown",
   "metadata": {},
   "source": [
    "# matplotlib概述\n",
    "\n",
    "matplotlib也是Python中最常用的可视化工具，主要是可以绘制海量类型的2D图表和基本的3D图表。在计算机视觉应用中，我们主要用其中最基础的一些功能。主要使用其中的绘图模块pyplot。\n",
    "matplotlib的安装也很简单，可以直接通过pip安装\n",
    "\n",
    "```shell\n",
    ">>> pip install matplotlib\n",
    "```\n",
    "\n",
    "可以查看导入库是否成功，常用的方法是导入pyplot模块，并按照惯例使用别名plt。\n",
    "\n",
    "```python\n",
    ">>> import matplotlib.pyplot as plt\n",
    "```\n",
    "\n"
   ]
  },
  {
   "cell_type": "code",
   "execution_count": null,
   "metadata": {},
   "outputs": [],
   "source": []
  },
  {
   "cell_type": "markdown",
   "metadata": {},
   "source": [
    "# 1 绘制简单图表\n",
    "\n",
    "matplotlib中最基础的模块是pyplot，可以绘制和显示图像。\n",
    "\n",
    "plt.figure方法用来定义图表的名称和大小，plt.plot方法用来绘制图表，plt.show方法用来将绘制的图显示在屏幕上。\n",
    "\n",
    "绘制简单的线段图，示例如下：\n",
    "\n",
    "```python\n",
    ">>>import matplotlib.pyplot as plt \n",
    ">>>import numpy as np\n",
    ">>>plt.figure('line',figsize=(6,6))\n",
    ">>>plt.plot(np.arange(10))\n",
    ">>>plt.show()\n",
    "```\n",
    "\n"
   ]
  },
  {
   "cell_type": "code",
   "execution_count": null,
   "metadata": {},
   "outputs": [],
   "source": []
  },
  {
   "cell_type": "markdown",
   "metadata": {},
   "source": [
    "# 2 显示图像和子图\n",
    "\n",
    "matplotlib也支持图像的存取和显示。通过plt.imread 和 plt.imshow也可以方便的读取和显示图像，对于一般的图像显示和对比，比其他库要方便的多。\n",
    "\n",
    "如下示例，可以显示当前目录下的图像\n",
    "\n",
    "```python\n",
    ">>> plt.figure('cat',figsize=(5,5))\n",
    ">>> cat = plt.imread(\"./cat.jpg\")\n",
    ">>> plt.imshow(cat)\n",
    "```\n",
    "\n"
   ]
  },
  {
   "cell_type": "code",
   "execution_count": null,
   "metadata": {},
   "outputs": [],
   "source": []
  },
  {
   "cell_type": "markdown",
   "metadata": {},
   "source": [
    "也可以通过plt.subplot绘制多个子图，也可以使用plt.title定义子图的标题。\n",
    "\n",
    "如下示例，通过numpy生成多个图像，并通过matplotlib的多个子图展示\n",
    "\n",
    "```python\n",
    ">>>import numpy as np\n",
    ">>>import matplotlib.pyplot as plt\n",
    ">>>%matplotlib inline\n",
    ">>>plt.figure(figsize=(6,6))\n",
    "\n",
    ">>>img0 = np.zeros((500,500,3),np.uint8)\n",
    ">>>img1 = np.zeros((500,500,3),np.uint8)\n",
    ">>>img1[:,:,0] = 255\n",
    ">>>img1[:,:,1] = 111\n",
    ">>>img1[:,:,2] = 131\n",
    ">>>img2 = np.ones((500,500,3),np.uint8) * 127\n",
    ">>>img3 = np.ones((500,500,3),np.uint8) * 255\n",
    "\n",
    ">>>plt.subplot(221);plt.imshow(img0);plt.title(\"image0 \")\n",
    ">>>plt.subplot(222);plt.imshow(img1);plt.title(\"image1 \")\n",
    ">>>plt.subplot(223);plt.imshow(img2);plt.title(\"image2 \")\n",
    ">>>plt.subplot(224);plt.imshow(img3);plt.title(\"image3 \")\n",
    "```\n"
   ]
  },
  {
   "cell_type": "code",
   "execution_count": null,
   "metadata": {},
   "outputs": [],
   "source": []
  },
  {
   "cell_type": "markdown",
   "metadata": {},
   "source": [
    "# 3 刻度、标签和图例\n",
    "\n",
    "可以通过plt.title绘制图像的标题，plt.text在图像的任何位置写文字。plt.xlabel和plt.ylabel是绘制x轴和y轴的标签。\n",
    "\n",
    "如下示例，显示图像并写标题和文字，以及坐标轴的标签。\n",
    "\n",
    "```python\n",
    ">>> plt.title(\"cat\")\n",
    ">>> plt.text(360,200,\"this is a cat\")\n",
    ">>> plt.xlabel('width')\n",
    ">>> plt.ylabel(\"height\")\n",
    ">>> cat = plt.imread(\"./cat.jpg\")\n",
    ">>> plt.imshow(cat)\n",
    "```\n",
    "\n"
   ]
  },
  {
   "cell_type": "code",
   "execution_count": null,
   "metadata": {},
   "outputs": [],
   "source": []
  },
  {
   "cell_type": "markdown",
   "metadata": {},
   "source": [
    "# 4 文件保存\n",
    "\n",
    "matplotlib也可以通过plt.savefig将图片保存到文件。\n",
    "\n",
    "例如，我们可以将上一个例子绘制的图保存下来。\n",
    "\n",
    "```python\n",
    ">>>plt.savefig('fig.png',dpi=300,bbox_inches='tight')\n",
    "```\n",
    "\n",
    "#### "
   ]
  }
 ]
}