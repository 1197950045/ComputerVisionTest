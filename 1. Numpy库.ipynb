{
 "metadata": {
  "language_info": {
   "codemirror_mode": {
    "name": "ipython",
    "version": 3
   },
   "file_extension": ".py",
   "mimetype": "text/x-python",
   "name": "python",
   "nbconvert_exporter": "python",
   "pygments_lexer": "ipython3",
   "version": 3
  },
  "orig_nbformat": 2,
  "kernelspec": {
   "name": "python_defaultSpec_1595576917659",
   "display_name": "Python 3.7.0 64-bit ('paddle': conda)"
  }
 },
 "nbformat": 4,
 "nbformat_minor": 2,
 "cells": [
  {
   "cell_type": "markdown",
   "metadata": {},
   "source": [
    "# numpy概述\n",
    "我们知道，位图通常是用像素矩阵表示。在python中，图像通常会通过numpy矩阵表示，因此我们需要先了解numpy的基本使用。\n",
    "\n",
    "- NumPy是Python语言的一个开源的数值计算扩充程序库。\n",
    "\n",
    "- 支持高级大量的维度数组与矩阵运算，可用来存储和处理大型矩阵。\n",
    "\n",
    "- 此外也针对数组运算提供大量的数学函数库。\n",
    "\n",
    "  \n",
    "\n",
    "对于图像而言，一个像素通常由每个通道的一个字节表示。所以可以使用numpy创建的数组来生成图像。\n",
    "\n",
    "类似所有的python库，可以通过pip完成numpy的安装"
   ]
  },
  {
   "cell_type": "code",
   "execution_count": 4,
   "metadata": {
    "tags": []
   },
   "outputs": [
    {
     "output_type": "stream",
     "name": "stdout",
     "text": "Looking in indexes: http://pypi.douban.com/simple\nRequirement already satisfied: numpy in /anaconda3/envs/paddle/lib/python3.7/site-packages (1.18.5)\n"
    }
   ],
   "source": [
    "!pip install numpy"
   ]
  },
  {
   "cell_type": "markdown",
   "metadata": {},
   "source": [
    "# 1 数组类型Ndarray\n",
    "* 创建数组类型Ndarray\n",
    "\n",
    "ndarray对象是用于存放同类型元素的多维数组，是numpy中的基本对象之一。我们通常可以用numpy.array的方式创建一个ndarray的数组。\n",
    "\n",
    "首先，引入NumPy库，并将np作为别名。这是一种习惯性的用法，在教程中都默认这样使用。\n",
    "```python\n",
    ">>>import numpy as np\n",
    "```"
   ]
  },
  {
   "cell_type": "code",
   "execution_count": 3,
   "metadata": {},
   "outputs": [],
   "source": []
  },
  {
   "cell_type": "markdown",
   "metadata": {},
   "source": [
    "可以通过元组tuple构建array：\n",
    "\n",
    "```python\n",
    ">>> pytuple = (4,5,6) \n",
    ">>> ll = np.array(pytuple) \n",
    ">>> ll \n",
    "\tarray([4, 5, 6])\n",
    "```\n"
   ]
  },
  {
   "cell_type": "code",
   "execution_count": 1,
   "metadata": {},
   "outputs": [],
   "source": []
  },
  {
   "cell_type": "markdown",
   "metadata": {},
   "source": [
    "\n",
    "通过list构建array\n",
    "\n",
    "```python\n",
    ">>> pylist = [0,1,2] \n",
    ">>> jj = np.array(pylist) \n",
    ">>> jj \n",
    "\tOut[7]: array([0, 1, 2])\n",
    "\n",
    "```\n",
    "\n"
   ]
  },
  {
   "cell_type": "code",
   "execution_count": null,
   "metadata": {},
   "outputs": [],
   "source": []
  },
  {
   "cell_type": "markdown",
   "metadata": {},
   "source": [
    "构建多维的array\n",
    "\n",
    "```python\n",
    ">>> pylist1 = [1,2,3] \n",
    ">>> pylist2 = [4,5,6] \n",
    ">>> marray = np.array([pylist1,pylist2]) \n",
    ">>> marray \n",
    "\tarray([[1, 2, 3], \n",
    "         [4, 5, 6]])\n",
    "```"
   ]
  },
  {
   "cell_type": "markdown",
   "metadata": {},
   "source": [
    "* Ndarray对象常用属性\n",
    "\n",
    "ndarray对象最常用属性包括：\n",
    "\n",
    "| 属性     | 含义                                                  |\n",
    "| -------- | ----------------------------------------------------- |\n",
    "| T        | 转置，与self.transpose(  )相同，如果维度小于2返回self |\n",
    "| size     | 数组中元素个数                                        |\n",
    "| itemsize | 数组中单个元素的字节长度                              |\n",
    "| dtype    | 数组元素的数据类型对象                                |\n",
    "| ndim     | 数组的维度                                            |\n",
    "| shape    | 数组的形状                                            |\n",
    "| data     | 指向存放数组数据的python  buffer对象                  |\n",
    "| flat     | 返回数组的一维迭代器                                  |\n",
    "| nbytes   | 数组中所有元素的字节长度                              |\n",
    "\n"
   ]
  },
  {
   "cell_type": "markdown",
   "metadata": {},
   "source": [
    "示例如下： 针对marry数组，我们可以查看：\n",
    "\n",
    "```python\n",
    ">>> pylist1 = [1,2,3] \n",
    ">>> pylist2 = [4,5,6] \n",
    ">>> marray = np.array([pylist1,pylist2]) \n",
    "```\n"
   ]
  },
  {
   "cell_type": "code",
   "execution_count": null,
   "metadata": {},
   "outputs": [],
   "source": []
  },
  {
   "cell_type": "markdown",
   "metadata": {},
   "source": [
    "```python\n",
    ">>> marray.T \n",
    "array([[1, 4],\n",
    "       [2, 5],\n",
    "       [3, 6]])  \n",
    ">>> marray.size\n",
    "6\n",
    ">>> marray.itemsize\n",
    "8\n",
    "```\n"
   ]
  },
  {
   "cell_type": "code",
   "execution_count": null,
   "metadata": {},
   "outputs": [],
   "source": []
  },
  {
   "cell_type": "markdown",
   "metadata": {},
   "source": [
    "```python\n",
    ">>> marray.dtype\n",
    "dtype('int64')\n",
    ">>> marray.ndim\n",
    "2\n",
    ">>> marray.shape\n",
    "(2, 3)\n",
    ">>> marray.data\n",
    "<memory at 0x11ecaf558>\n",
    "```\n"
   ]
  },
  {
   "cell_type": "code",
   "execution_count": null,
   "metadata": {},
   "outputs": [],
   "source": []
  },
  {
   "cell_type": "markdown",
   "metadata": {},
   "source": [
    "```\n",
    ">>> for item in marray.flat: \n",
    ">>>     print(item)\n",
    "1\n",
    "2\n",
    "3\n",
    "4\n",
    "5\n",
    "6\n",
    ">>> marray.nbytes\n",
    "48\n",
    "```"
   ]
  },
  {
   "cell_type": "markdown",
   "metadata": {},
   "source": [
    "*  4 数组类型\n",
    "\n",
    "在创建数组时，可以根据初始值自动推断数组的数值类型\n",
    "\n",
    "```python\n",
    ">>> a = np.array([1,2,3.5]) \n",
    ">>> a \n",
    "\tarray([1. , 2. , 3.5])\n",
    ">>> c = np.array(['1',2,3]) \n",
    ">>> c\n",
    "\tarray(['1', '2', '3'], dtype='<U1') \n",
    "```\n",
    "\n",
    "\n",
    "```\n",
    "\n"
   ]
  },
  {
   "cell_type": "code",
   "execution_count": null,
   "metadata": {},
   "outputs": [],
   "source": []
  },
  {
   "cell_type": "markdown",
   "metadata": {},
   "source": [
    "或者明确指定数组类型：\n",
    "\n",
    "```python\n",
    ">>> a = np.array([1,2,3.5], dtype=np.float32) \n",
    ">>> a \n",
    "\tarray([1. , 2. , 3.5]) \n",
    ">>> c = np.array(['1',2,3] ,dtype=np.ubyte) \n",
    ">>> c\n",
    "\tarray(['1', '2', '3'])"
   ]
  },
  {
   "cell_type": "code",
   "execution_count": null,
   "metadata": {},
   "outputs": [],
   "source": []
  },
  {
   "cell_type": "markdown",
   "metadata": {},
   "source": [
    "# 2 常用数组快速创建方法\n",
    "\n",
    "* 一维序列数组\n",
    "\n",
    "可以通过np.arange(),类似于python原生的range，通过指定开始值，终值和步长来创建表示等差数列的一维数组。\n",
    "\n",
    "注意该函数和range一样结果不包含终值。np.arange(start,end,step)\n",
    "\n",
    "```python\n",
    ">>> np.arange(10)\n",
    "\tarray([0, 1, 2, 3, 4, 5, 6, 7, 8, 9])\n",
    ">>> np.arange(0,1,0.1)\n",
    "\tarray([ 0. , 0.1, 0.2, 0.3, 0.4, 0.5, 0.6, 0.7, 0.8, 0.9])\n",
    ">>> np.arange(10,0,-1)\n",
    "\tarray([10, 9, 8, 7, 6, 5, 4, 3, 2, 1])\n",
    "\n",
    "```"
   ]
  },
  {
   "cell_type": "code",
   "execution_count": null,
   "metadata": {},
   "outputs": [],
   "source": []
  },
  {
   "cell_type": "markdown",
   "metadata": {},
   "source": [
    "* 等差数列\n",
    "\n",
    "np.linspace()函数可以生成一个等差数列，与上面np.arange不同的是，该函数第三个参数指定的是元素个数，它表示给定起始值和终点值以及元素个数，生成一个一维的等差数列。\n",
    "\n",
    "含有参数endpoint布尔值，默认为True表示包含终值，设定为False表示不包含终值。np.linspace(start,end,count,endpoint=True)\n",
    "\n",
    "示例代码如下：\n",
    "\n",
    "```python\n",
    ">>> a=np.linspace(0,1,10)\n",
    ">>> print(a)\n",
    "[0.         0.11111111 0.22222222 0.33333333 0.44444444 0.55555556\n",
    " 0.66666667 0.77777778 0.88888889 1.        ]\n",
    "\n",
    ">>> b=np.linspace(0,1,10,endpoint = False)\n",
    ">>> print(b)\n",
    "[0.  0.1 0.2 0.3 0.4 0.5 0.6 0.7 0.8 0.9]\n",
    "```\n",
    "\n"
   ]
  },
  {
   "cell_type": "code",
   "execution_count": null,
   "metadata": {},
   "outputs": [],
   "source": []
  },
  {
   "cell_type": "markdown",
   "metadata": {},
   "source": [
    "* 等比数列\n",
    "\n",
    "np.logspace（）用于生成等比数列。该函数与np.linspace类似，不过它起始值是base的start次方，结束值是base的end次方，base基数默认为10。  \n",
    "\n",
    "  np.logspace(start,end,count,base=10)\n",
    "\n",
    "```python\n",
    ">>> np.logspace(0,3,4)\n",
    "\tarray([ 1., 10., 100., 1000.])\n",
    ">>> np.logspace(0,3,4,base=2)\n",
    "\tarray([ 1., 2., 4., 8.])\n",
    "```\n",
    "\n"
   ]
  },
  {
   "cell_type": "code",
   "execution_count": null,
   "metadata": {},
   "outputs": [],
   "source": []
  },
  {
   "cell_type": "markdown",
   "metadata": {},
   "source": [
    "* 全0数组\n",
    "\n",
    "np.zeros()函数用于生成值全为0的数组。至少要传入一个参数表示数组形状。\n",
    "\n",
    "```python\n",
    ">>> np.zeros(5)\t\n",
    "\tarray([ 0., 0., 0., 0., 0.])\n",
    ">>> np.zeros((3,5))\n",
    "\tarray([[ 0., 0., 0., 0., 0.], \n",
    "\t\t[ 0., 0., 0., 0., 0.], \n",
    "\t\t[ 0., 0., 0., 0., 0.]])\n",
    "\n",
    "```\n"
   ]
  },
  {
   "cell_type": "code",
   "execution_count": null,
   "metadata": {},
   "outputs": [],
   "source": []
  },
  {
   "cell_type": "markdown",
   "metadata": {},
   "source": [
    "* 全1数组\n",
    "\n",
    "np.ones()函数用于生成值全为1的数组。至少要传入一个参数表示数组形状。\n",
    "\n",
    "```python\n",
    ">>> np.ones(5)\t\n",
    "\t array([ 1., 1., 1., 1., 1.])\n",
    ">>> np.ones((3,5))\n",
    "\t array([[ 1., 1., 1., 1., 1.], \n",
    "\t\t[ 1., 1., 1., 1., 1.], \n",
    "\t\t[ 1., 1., 1., 1., 1.]])\n",
    "```\n",
    "\n"
   ]
  },
  {
   "cell_type": "code",
   "execution_count": null,
   "metadata": {},
   "outputs": [],
   "source": []
  },
  {
   "cell_type": "markdown",
   "metadata": {},
   "source": [
    "* 全x数组\n",
    "\n",
    "np.full()函数可以生成初始化为指定值的数组。至少要传入两个个参数。一个为数组的shape,一个为初始化的值。\n",
    "\n",
    "  np.full(shape,init_data)\n",
    "\n",
    "```python\n",
    ">>> np.full(5, -1)\t\n",
    "array([-1, -1, -1, -1, -1])\n",
    ">>> np.full((2,3),5)\n",
    "array([[5, 5, 5],\n",
    "       [5, 5, 5]])\n",
    "```\n",
    "\n"
   ]
  },
  {
   "cell_type": "code",
   "execution_count": null,
   "metadata": {},
   "outputs": [],
   "source": []
  },
  {
   "cell_type": "markdown",
   "metadata": {},
   "source": [
    "# 3 数组维度变换与重塑\n",
    "\n",
    "reshape函数将数组对象的shape进行重塑。\n",
    "\n",
    "新数组的shape属性应该要与原来数组的一致，即新数组元素数量与原数组元素数量要相等。\n",
    "\n",
    "```python\n",
    ">>> a =np.array([[ 1, 2, 3,4], \n",
    "\t        \t    [ 5, 6, 7,8],\n",
    "\t              [ 9, 10, 11,12]]) \n",
    ">>> b = a.reshape(6,2) \n",
    ">>> b\n",
    "\t array([[ 1, 2], \n",
    "\t\t[ 3, 4], \n",
    "\t\t[ 5, 6], \n",
    "\t\t[ 7, 8], \n",
    "\t\t[ 9, 10], \n",
    "\t\t[11, 12]])\n",
    "```\n",
    "\n"
   ]
  },
  {
   "cell_type": "code",
   "execution_count": null,
   "metadata": {},
   "outputs": [],
   "source": []
  },
  {
   "cell_type": "markdown",
   "metadata": {},
   "source": [
    "当reshape一个参数为-1时，那么reshape函数会根据另一个参数的维度计算出数组的另外一个shape属性值。\n",
    "\n",
    "```python\n",
    ">>> a =np.array([[ 1, 2, 3,4], \n",
    "\t        \t     [ 5, 6, 7,8],\n",
    "\t               [ 9, 10,11,12]]) \n",
    ">>> b = a.reshape(-1,2) \n",
    ">>> b\n",
    "\t array([[ 1, 2], \n",
    "\t\t[ 3, 4], \n",
    "\t\t[ 5, 6], \n",
    "\t\t[ 7, 8], \n",
    "\t\t[ 9, 10], \n",
    "\t\t[11, 12]])\n",
    "```\n",
    "\n"
   ]
  },
  {
   "cell_type": "code",
   "execution_count": null,
   "metadata": {},
   "outputs": [],
   "source": []
  },
  {
   "cell_type": "markdown",
   "metadata": {},
   "source": [
    "resize和reshape功能类似，reshape是返回新数组，而resize可以直接修改原始数组\n",
    "\n",
    "```python\n",
    ">>> c =np.array([[ 1, 2, 3,4], \n",
    "\t        \t    [ 5, 6, 7,8],\n",
    "\t              [ 9, 10,11,12]]) \n",
    ">>> c.resize(2,6) \n",
    ">>> c\n",
    "\tarray([[ 1, 2,3, 4,5, 6], \n",
    "\t       [ 7, 8,9,10,11,12]])\n",
    "\n",
    "```\n",
    "\n"
   ]
  },
  {
   "cell_type": "code",
   "execution_count": null,
   "metadata": {},
   "outputs": [],
   "source": []
  },
  {
   "cell_type": "markdown",
   "metadata": {},
   "source": [
    "# 4 数组索引与切片方法\n",
    "\n",
    "* 数组索引\n",
    "\n",
    "与Python中定义的序列类似，NumPy支持同样的方法对数组进行索引。\n",
    "\n",
    "```python\n",
    ">>> a =np.array([[ 1, 2, 3,4], \n",
    "                [ 5, 6, 7,8],\n",
    "                [ 9, 10, 11,12]])\n",
    ">>> a[2][3]\n",
    "\t12\n",
    ">>> a[0][1]\n",
    "\t2\n",
    "```\n",
    "\n",
    "●注意：Python的索引是从0开始。"
   ]
  },
  {
   "cell_type": "code",
   "execution_count": null,
   "metadata": {},
   "outputs": [],
   "source": []
  },
  {
   "cell_type": "markdown",
   "metadata": {},
   "source": [
    "* 数组切片\n",
    "\n",
    "数组通过指定索引的范围，来实现切片。\n",
    "\n",
    "如a\\[2:5]，是指一维索引从2开始，到5结束，但不包括5在内。\n",
    "\n",
    "```python\n",
    ">>> a =np.array([ 1, 2, 3,4,5, 6, 7,8])\n",
    ">>> a[1:5]\n",
    "\tarray([2, 3, 4, 5])\n",
    ">>> a[3:5]\n",
    "\tarray([4, 5])\n",
    ">>> a =np.array([[ 1, 2, 3,4], [ 5, 6, 7,8], [ 9, 10, 11,12]])\n",
    ">>> a[1:2]\n",
    "\tarray([[5, 6, 7, 8]])\n",
    ">>> a[1:3]\n",
    "\tarray([[ 5, 6, 7, 8], [ 9, 10, 11, 12]])\n",
    "\n",
    "```\n",
    "\n"
   ]
  },
  {
   "cell_type": "code",
   "execution_count": null,
   "metadata": {},
   "outputs": [],
   "source": []
  },
  {
   "cell_type": "markdown",
   "metadata": {},
   "source": [
    "数组切片可以缺省索引值。\n",
    "\n",
    "如a\\[:5]，是指一维索引从缺省的0开始，到5结束，但不包括5在内。\n",
    "\n",
    "如a\\[2:]，是指一维索引从2开始，到缺省的最后值为止，包括最后值。\n",
    "\n",
    "```python\n",
    ">>> a =np.array([ 1, 2, 3,4,5, 6, 7,8])\n",
    ">>> a[:5]\n",
    "\tarray([1,2, 3, 4, 5])\n",
    ">>> a[3:]\n",
    "\tarray([4, 5, 6, 7, 8])\n",
    ">>> a =np.array([[ 1, 2, 3,4], [ 5, 6, 7,8],[ 9, 10, 11,12]])\n",
    ">>> a[1:]\n",
    "\tarray([[5, 6, 7, 8], [ 9, 10, 11,12]])\n",
    ">>> a[:]\n",
    "\tarray([[ 1, 2, 3,4],[ 5, 6, 7,8],[ 9, 10, 11,12]])\n",
    "```\n",
    "\n"
   ]
  },
  {
   "cell_type": "code",
   "execution_count": null,
   "metadata": {},
   "outputs": [],
   "source": []
  },
  {
   "cell_type": "markdown",
   "metadata": {},
   "source": [
    "数组切片可以使用“-”号进行索引。\n",
    "\n",
    "如 a\\[-1]，是指一维索引取最后一个值。\n",
    "\n",
    "如 a\\[:-1]，是指一维索引从缺省的0开始，到最后一个值结束，但不包括最后一个值在内。\n",
    "\n",
    "```python\n",
    ">>> a =np.array([[ 1, 2, 3,4], [ 5, 6, 7,8], [ 9, 10, 11,12]])\n",
    ">>> a[-1]\n",
    "\tarray([ 9, 10, 11,12])\n",
    ">>> a[-1,-1]\n",
    "\t12\n",
    ">>> a[:-1]\n",
    "\tarray([[1, 2, 3,4],[5, 6, 7, 8]])\n",
    ">>> a[:-1,:-2]\n",
    "\tarray([[1, 2], \t[5, 6]])\n",
    "\n",
    "```\n"
   ]
  },
  {
   "cell_type": "code",
   "execution_count": null,
   "metadata": {},
   "outputs": [],
   "source": []
  },
  {
   "cell_type": "markdown",
   "metadata": {},
   "source": [
    "* 迭代切片\n",
    "\n",
    "Numpy array可以通过“::”对数组进行迭代提取数值。\n",
    "\n",
    "如 a\\[1:10:2]，表示从数值索引“1”开始，到索引“10”为止（但不包括“10”)，没间隔2个提取一个值。\n",
    "\n",
    "当最后一个间隔值变成-1时，则代表对数组进行翻转。\n",
    "\n",
    "```python\n",
    ">>> a =np.array([ 1, 2, 3,4,5, 6, 7,8])\n",
    ">>> a[::3]\n",
    "\tarray([1, 4, 7])\n",
    ">>> a[:6:2]\n",
    "\tarray([1, 3, 5])\n",
    ">>> a[3::2]\n",
    "\tarray([4, 6, 8])\n",
    ">>> b =np.array([[ 1, 2, 3,4], [ 5, 6, 7,8], [ 9, 10, 11,12]])\n",
    ">>> b[::-1]\n",
    "\t array([[ 9, 10, 11, 12], [ 5, 6, 7, 8], [ 1, 2, 3, 4]])\n",
    "\n",
    "```\n"
   ]
  },
  {
   "cell_type": "code",
   "execution_count": null,
   "metadata": {},
   "outputs": [],
   "source": []
  },
  {
   "cell_type": "markdown",
   "metadata": {},
   "source": [
    "* 数组迭代器\n",
    "\n",
    "Array 的 flat属性可以将多维数组变成一个迭代器。便于对数组中每个原始进行计算。\n",
    "\n",
    "如 a.flat 返回类型为numpy.flatiter，数组a的迭代器。\n",
    "\n",
    "```python\n",
    ">>> a =np.array([[ 1, 2, 3,4], [ 5, 6, 7,8], [ 9, 10, 11,12]])\n",
    ">>> for i in a:\n",
    "\tprint (i)\n",
    "\t[1 2 3 4] \n",
    "\t[5 6 7 8] \n",
    "\t[ 9 10 11 12]\n",
    ">>> a.flat\n",
    "\t <numpy.flatiter at 0x380f800>\n",
    ">>> for i in a.flat:\n",
    "\tprint (i)\t\n",
    "\t1 2 3 4 5 6 7 8 9 10 11 12\n",
    "```\n",
    "\n"
   ]
  },
  {
   "cell_type": "code",
   "execution_count": null,
   "metadata": {},
   "outputs": [],
   "source": []
  },
  {
   "cell_type": "markdown",
   "metadata": {},
   "source": [
    "# 5 数组的文件存取\n",
    "\n",
    "NumPy可以用专有的二进制类型保存数据，文件后缀为npy。通过np.load和np.save这两个函数可以方便的读写数组文件，自动处理元素类型和shape等信息。\n",
    "\n",
    "```python\n",
    ">>> import numpy as np\n",
    ">>> a =np.array([[ 1, 2, 3, 4], [ 5, 6, 7, 8], [ 9, 10, 11,12]],dtype=np.float32)\n",
    ">>> np.save(\"a.npy\",a) \n",
    ">>> new_a = np.load(\"a.npy\")\n",
    ">>> new_a\n",
    "array([[ 1.,  2.,  3.,  4.],\n",
    "       [ 5.,  6.,  7.,  8.],\n",
    "       [ 9., 10., 11., 12.]], dtype=float32)\n",
    "```\n",
    "\n"
   ]
  },
  {
   "cell_type": "code",
   "execution_count": null,
   "metadata": {},
   "outputs": [],
   "source": []
  }
 ]
}