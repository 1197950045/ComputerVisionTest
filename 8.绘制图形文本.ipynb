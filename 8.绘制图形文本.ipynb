{
 "metadata": {
  "language_info": {
   "codemirror_mode": {
    "name": "ipython",
    "version": 3
   },
   "file_extension": ".py",
   "mimetype": "text/x-python",
   "name": "python",
   "nbconvert_exporter": "python",
   "pygments_lexer": "ipython3",
   "version": 3
  },
  "orig_nbformat": 2
 },
 "nbformat": 4,
 "nbformat_minor": 2,
 "cells": [
  {
   "cell_type": "markdown",
   "metadata": {},
   "source": [
    "# 1 绘制图形\n",
    "\n",
    "* 绘制直线\n",
    "\n",
    "绘制直线的函数是cv2.line()，在绘制的过程中需要指定起点坐标与终点坐标，该函数的基本形式如下：\n",
    "\n",
    "| **函数**                                                     | **说明**                                                     |\n",
    "| ------------------------------------------------------------ | ------------------------------------------------------------ |\n",
    "| cv2.line（<br/>        image,<br/>        Point pt1,   <br/>        Point pt2,<br/>        color,<br/>        thickness=1,<br/>        line_type=8） | 使用cv2绘制一条直线。                                                                                                  **image**：绘制的源图像                                                                                                            **pt1**：起点坐标                                                                                                                               **pt2**：终点坐标                                                                                                                                 **color**：直线的颜色                                                                                           <br/>**thickness**：直线的粗细，默认值是1，如果是闭合图像设置为-1                                                 **lineType**：线条的类型，抗锯齿等，默认值是8 |\n",
    "\n",
    "用粗细为5个像素的蓝色线条绘制一条直线。示例代码如下：\n",
    "\n",
    "```python\n",
    "import numpy as np\n",
    "import cv2\n",
    "img = np.zeros((512,512,3),np.uint8)\n",
    "cv2.line(img,(0,0),(511,511),(255,0,0),5)\n",
    "cv2.namedWindow('image',cv2.WINDOW_NORMAL)\n",
    "cv2.imshow('image',img)\n",
    "cv2.waitKey(0)\n",
    "cv2.destroyAllWindows()\n",
    "```\n",
    "\n"
   ]
  },
  {
   "cell_type": "code",
   "execution_count": null,
   "metadata": {},
   "outputs": [],
   "source": []
  },
  {
   "cell_type": "markdown",
   "metadata": {},
   "source": [
    "* 绘制圆\n",
    "\n",
    "绘制圆的函数是cv2.circle，需要指定圆心的位置和圆的半径：\n",
    "\n",
    "| **函数**                                                     | **说明**                                                     |\n",
    "| ------------------------------------------------------------ | ------------------------------------------------------------ |\n",
    "| cv2. circle(<br/>        image,<br/>        center,<br/>        radius，<br/>        color，<br/>        thickness,<br/>        lineType) | 使用cv2绘制圆。<br/> **image：**绘制的源图像<br/> **center：**圆心的坐标<br/> **raduis：**圆的半径<br/> **color：**线的颜色<br/> **thickness：**直线的粗细，默认值是1，如果是闭合图像设置为-1<br/> **lineType：**线条的类型，抗锯齿等，默认值是8 |\n",
    "\n",
    "绘制一个红色的实心圆，示例代码如下：\n",
    "\n",
    "```python\n",
    "cv2.circle(img,(256,256),60,(0,0,255),-1)\n",
    "\n",
    "```\n",
    "\n"
   ]
  },
  {
   "cell_type": "code",
   "execution_count": null,
   "metadata": {},
   "outputs": [],
   "source": []
  },
  {
   "cell_type": "markdown",
   "metadata": {},
   "source": [
    "* 绘制矩形\n",
    "\n",
    "绘制矩形的函数是cv2.rectangle，绘制矩形需要指定左上角坐标和右下角坐标，其函数形式如下：\n",
    "\n",
    "| **函数**                                                     | **说明**                                                     |\n",
    "| ------------------------------------------------------------ | ------------------------------------------------------------ |\n",
    "| cv2.rectangle(<br/>            image, <br/>            Point pt1, <br/>            Point pt2, <br/>            color, <br/>            thickness=1, <br/>            line_type=8） | 使用cv2绘制矩形。<br/> **image：**需要绘制的图像<br/> **pt1：**左上角坐标<br/> **pt2：**右下角坐标<br/> **color：**直线的颜色<br/> **thickness：**直线的粗细，默认值是1，如果是闭合图像设置为-1<br/> **lineType：**线条的类型，抗锯齿等，默认值是8 |\n",
    "\n",
    "在图像的右上角绘制一个绿色的线框，示例代码如下：\n",
    "\n",
    "```python\n",
    "cv2.rectangle(img,(384,0),(512,128),(0,255,0),3) \n",
    "```\n",
    "\n"
   ]
  },
  {
   "cell_type": "code",
   "execution_count": null,
   "metadata": {},
   "outputs": [],
   "source": []
  },
  {
   "cell_type": "markdown",
   "metadata": {},
   "source": [
    "* 绘制椭圆\n",
    "\n",
    "绘制椭圆的函数是cv2. ellipse（），绘制椭圆需要指定长轴和短轴，其函数形式如下：\n",
    "\n",
    "| **函数**                                                     | **说明**                                                     |\n",
    "| ------------------------------------------------------------ | ------------------------------------------------------------ |\n",
    "| cv2.ellipse(<br/>         image, <br/>         center, <br/>         axes, <br/>         angle, <br/>         startAngle, <br/>         endAngle, <br/>         color, <br/>         thickness, <br/>         lineType) | 使用cv2绘制椭圆。<br/> **image：**需要绘制的图像<br/> **center：**椭圆的中心尺寸<br/> **axes：**椭圆的长短轴<br/> **angle：**椭圆的旋转角度（顺时针）<br/> **startAngle：**绘制的起始角度<br/> **endAngle：**绘制的终止角度<br/> **color：**直线的颜色<br/> **thickness：**直线的粗细，默认值是1，如果是闭合图像设置为-1<br/> **lineType：**线条的类型，抗锯齿等，默认值是8 |\n",
    "\n",
    "绘制一个蓝色的椭圆，示例代码如下：\n",
    "\n",
    "```python\n",
    "cv2.ellipse(img,(256,256),(100,50),0,45,300,(255,0,0),-1)\n",
    "```\n",
    "\n"
   ]
  },
  {
   "cell_type": "code",
   "execution_count": null,
   "metadata": {},
   "outputs": [],
   "source": []
  },
  {
   "cell_type": "markdown",
   "metadata": {},
   "source": [
    "* 绘制多边形\n",
    "\n",
    "绘制多边形函数cv2.polylines,需要设置是否是闭合函数\n",
    "\n",
    "| 函数                                                         | 接口                                                         |\n",
    "| ------------------------------------------------------------ | ------------------------------------------------------------ |\n",
    "| cv2.polylines(<br/>         img<br/>         pts<br/>         bool<br/>         color<br/>         thickness) | 绘制多边形。<br/>**img：**要绘制的多边形的图像<br/>**pts**：多边形的顶点的列表<br/>**bool**：True表示图像闭合，False表示多边形不闭合<br/>**color：**线条的颜色<br/>**thickness：**线条粗细 |\n",
    "\n",
    "绘制一个闭合多边形，注意多边形顶点列表是一个三维数组。\n",
    "\n",
    "```python\n",
    ">>>pts = np.array([[100, 5],  [500, 100], [512, 200], [200, 300]], np.int32)\n",
    ">>>pts = pts.reshape((-1, 1, 2))              \n",
    ">>>cv2.polylines(img, [pts], True, (0, 0, 255), 3)\n",
    "\n",
    "```\n",
    "\n"
   ]
  },
  {
   "cell_type": "code",
   "execution_count": null,
   "metadata": {},
   "outputs": [],
   "source": []
  },
  {
   "cell_type": "markdown",
   "metadata": {},
   "source": [
    "也可以通过绘制多边形的函数，同时绘制多条线段。\n",
    "\n",
    "```python\n",
    "line1 = np.array([[100, 20],  [300, 20]], np.int32).reshape((-1, 1, 2))\n",
    "line2 = np.array([[100, 60],  [300, 60]], np.int32).reshape((-1, 1, 2))\n",
    "line3 = np.array([[100, 100],  [300, 100]], np.int32).reshape((-1, 1, 2))\n",
    "cv2.polylines(img, [line1, line2, line3], False, (0, 255, 255))\n",
    "```\n",
    "\n"
   ]
  },
  {
   "cell_type": "code",
   "execution_count": null,
   "metadata": {},
   "outputs": [],
   "source": []
  },
  {
   "cell_type": "markdown",
   "metadata": {},
   "source": [
    "还可以通过cv2.fillploy绘制是实心多边形，只需要输入坐标点列表和颜色就可以了。\n",
    "\n",
    "```python\n",
    "pts = np.array([[100, 5],  [500, 100], [512, 200], [200, 300]], np.int32)\n",
    "pts = pts.reshape(-1, 1, 2)\n",
    "cv2.fillPoly(img, [pts], (0, 0, 255))\n",
    "```\n",
    "\n"
   ]
  },
  {
   "cell_type": "code",
   "execution_count": null,
   "metadata": {},
   "outputs": [],
   "source": []
  },
  {
   "cell_type": "markdown",
   "metadata": {},
   "source": [
    "# 2 绘制文本和提取感兴趣区域\n",
    "\n",
    "* 绘制文本\n",
    "\n",
    "绘制文本的函数是cv2.putText，其函数形式如下所示：\n",
    "\n",
    "| **函数**                                                     | **说明**                                                     |\n",
    "| ------------------------------------------------------------ | ------------------------------------------------------------ |\n",
    "| cv2.putText(<br/>          img, <br/>          text, <br/>          Point pt1,<br/>          font, <br/>          size, <br/>          color, <br/>          thickness) | 使用cv2绘制文字。<br/>  **img：**需要绘制的图像<br/>  **text：**需要绘制的文字<br/>  **pt1：**字体左下角的坐标<br/>  **font：**字体<br/>  **size：**字体的大小<br/>  **color：**字体的颜色<br/>  **thickness：**直线的粗细，默认值是1 |\n",
    "\n",
    "在图片上写下“OpenCV”文字，实例如下：\n",
    "\n",
    "```python\n",
    "font = cv2.FONT_HERSHEY_SIMPLEX\n",
    "cv2.putText(img,'OpenCV',(10,500), font, 4,(255,255,255),2)\n",
    "```\n",
    "\n"
   ]
  },
  {
   "cell_type": "code",
   "execution_count": null,
   "metadata": {},
   "outputs": [],
   "source": []
  },
  {
   "cell_type": "markdown",
   "metadata": {},
   "source": [
    "* 提取感兴趣区域\n",
    "\n",
    "在图像处理中，常常需要设置感兴趣区域(ROI,region of interest)，来专注或者简化工作过程，也就是从图像中选择一个图像区域，这个区域是图像分析所关注的重点。这样在这个区域里进行操作，能提高程序的准确性和性能。\n",
    "\n",
    "ROI通常是使用numpy数组的索引来获取的。\n",
    "\n",
    "例如，在图中把人脸部分设定为ROI区域，并修改成灰度图。\n",
    "\n",
    "```python\n",
    "import cv2\n",
    "img = cv2.imread('./face.jpg')\n",
    "face = img[200:400, 200:400]  # 获取ROI区域：高度，宽度\n",
    "gray_face = cv2.cvtColor(face, cv2.COLOR_BGR2GRAY)  # ROI区域转化单通道GRAY图像\n",
    "back_face = cv2.cvtColor(gray_face, cv2.COLOR_GRAY2BGR)  # 单通道GRAY图像转化三通道RGB图像（三通道值相同）\n",
    "img[200:400, 200:400] = back_face\n",
    "cv2.namedWindow('image',cv2.WINDOW_NORMAL)\n",
    "cv2.imshow(\"image\",img)\n",
    "cv2.waitKey(0)\n",
    "cv2.destroyAllWindows()\n",
    "```\n",
    "\n"
   ]
  },
  {
   "cell_type": "code",
   "execution_count": null,
   "metadata": {},
   "outputs": [],
   "source": []
  },
  {
   "cell_type": "markdown",
   "metadata": {},
   "source": [
    "也可以使用selectROI通过交互的方式选取ROI区域。例如以下代码,通过交互方式获取roi区域，并保存为新的图片。\n",
    "\n",
    "```python\n",
    "import cv2\n",
    "img = cv2.imread(\"face.jpg\")\n",
    "# 调用交互式选择roi\n",
    "r = cv2.selectROI(img)\n",
    "# 截取图片\n",
    "roi = img[int(r[1]):int(r[1]+r[3]),int(r[0]):int(r[0]+r[2])]\n",
    "# 显示并保存roi区域\n",
    "cv2.imshow(\"ROI\", roi)\n",
    "cv2.imwrite(\"roi.jpg\", roi)\n",
    "cv2.waitKey(0)\n",
    "cv2.destroyAllWindows()\n",
    "```\n"
   ]
  }
 ]
}